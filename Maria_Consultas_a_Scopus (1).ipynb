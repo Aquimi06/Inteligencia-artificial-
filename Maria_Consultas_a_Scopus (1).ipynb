{
  "cells": [
    {
      "cell_type": "code",
      "execution_count": null,
      "metadata": {
        "id": "VJYdkg48RWeu",
        "colab": {
          "base_uri": "https://localhost:8080/"
        },
        "outputId": "3de2ac2a-7d44-4491-d28f-f4556baedfef"
      },
      "outputs": [
        {
          "output_type": "stream",
          "name": "stdout",
          "text": [
            "Requirement already satisfied: pyscopus==1.0.3a2 in /usr/local/lib/python3.10/dist-packages (1.0.3a2)\n"
          ]
        }
      ],
      "source": [
        "!pip install pyscopus==1.0.3a2"
      ]
    },
    {
      "cell_type": "code",
      "execution_count": null,
      "metadata": {
        "id": "cGBedjCYR1P5"
      },
      "outputs": [],
      "source": [
        "from pyscopus import Scopus\n",
        "import numpy\n",
        "import pandas\n",
        "import requests"
      ]
    },
    {
      "cell_type": "markdown",
      "metadata": {
        "id": "kWFCTdmIRaOa"
      },
      "source": []
    },
    {
      "cell_type": "code",
      "execution_count": null,
      "metadata": {
        "id": "Z8ECgchiSo1O"
      },
      "outputs": [],
      "source": [
        "key = \"bee028f37a0801f32c3a190820c74d24\"\n",
        "scopus = Scopus(key)"
      ]
    },
    {
      "cell_type": "markdown",
      "metadata": {
        "id": "XZsP_mIHRajQ"
      },
      "source": [
        "Búsqueda:\n",
        "Ejemplo:\n",
        "\n",
        "TITLE-ABS-KEY(((\"oxytocin\") AND (\"cheminformatics\") AND (\"docking\")) OR (\"oxytocin\" AND \"dog\" AND \"docking\") OR (\"oxytocin\" AND \"virtual\" AND \"simulations\"))\n"
      ]
    },
    {
      "cell_type": "markdown",
      "metadata": {
        "id": "e7rypdhrTz6W"
      },
      "source": [
        "Busqueda 1:\n",
        "\n",
        "TITLE-ABS-KEY(((\"carbon\") AND (\"electrodes\") AND (\"supercapacitor\") AND (\"coin\") AND (\"cell\")))\n"
      ]
    },
    {
      "cell_type": "markdown",
      "metadata": {
        "id": "p032bQLnj1-N"
      },
      "source": [
        "Busqueda 2:\n",
        "\n",
        "TITLE-ABS-KEY(((\"carbon\") AND (\"electrodes\") AND (\"supercapacitor\")))\n",
        "TITLE-ABS-KEY(((\"carbon\") OR (\"electrodes\") OR (\"supercapacitor\")))"
      ]
    },
    {
      "cell_type": "code",
      "execution_count": null,
      "metadata": {
        "id": "d8zGj4dIUAFE",
        "colab": {
          "base_uri": "https://localhost:8080/",
          "height": 35
        },
        "outputId": "1a94637e-f2c2-401d-fa61-49faccae7c24"
      },
      "outputs": [
        {
          "output_type": "execute_result",
          "data": {
            "text/plain": [
              "'cell'"
            ],
            "application/vnd.google.colaboratory.intrinsic+json": {
              "type": "string"
            }
          },
          "metadata": {},
          "execution_count": 4
        }
      ],
      "source": [
        "(\"carbon\" and \"electrodes\" and \"supercapacitor\" and \"coin\" and \"cell\")"
      ]
    },
    {
      "cell_type": "code",
      "execution_count": null,
      "metadata": {
        "id": "cmAJaU1wkULs",
        "colab": {
          "base_uri": "https://localhost:8080/",
          "height": 35
        },
        "outputId": "8f63bf6a-c0a7-45f1-a2c7-a3655d65d036"
      },
      "outputs": [
        {
          "output_type": "execute_result",
          "data": {
            "text/plain": [
              "'carbon'"
            ],
            "application/vnd.google.colaboratory.intrinsic+json": {
              "type": "string"
            }
          },
          "metadata": {},
          "execution_count": 5
        }
      ],
      "source": [
        "(\"carbon\" or \"electrodes\" or \"supercapacitor\")"
      ]
    },
    {
      "cell_type": "markdown",
      "source": [
        "TITLE-ABS-KEY(((\"mpox\") AND (\"*cheminformatics*\") AND (\"docking\")) OR (\"mpox\" AND \"quantum\" AND \"docking\") OR (\"mpox\" AND \"virtual\" AND \"simulations\"))\n"
      ],
      "metadata": {
        "id": "wagsmFuuvPmp"
      }
    },
    {
      "cell_type": "code",
      "source": [
        "TITLE-ABS-KEY( carbon AND cell AND supercapacitor)"
      ],
      "metadata": {
        "id": "yNMqkNy_vOhO"
      },
      "execution_count": null,
      "outputs": []
    },
    {
      "cell_type": "markdown",
      "source": [
        "el texto debe ser\n"
      ],
      "metadata": {
        "id": "SJwvVwXr4_p8"
      }
    },
    {
      "cell_type": "markdown",
      "source": [
        "TITLE-ABS-KEY%20(%20carbon%20AND%20cell%20AND%20supercapacitor%20)\n",
        "\n",
        "\n",
        "TITLE-ABS-KEY(carbon%20AND%20cell%20AND%20supercapacitor)\n",
        "\n",
        "*   Elemento de lista\n",
        "*   Elemento de lista\n",
        "\n",
        "\n",
        "\n",
        "\n",
        "TITLE-ABS-KEY( carbon AND cell AND supercapacitor )\n",
        "TITLE-ABS-KEY(carbon AND cell AND supercapacitor)"
      ],
      "metadata": {
        "id": "4DceDzD97EL2"
      }
    },
    {
      "cell_type": "code",
      "execution_count": null,
      "metadata": {
        "colab": {
          "base_uri": "https://localhost:8080/"
        },
        "outputId": "6cc1f9fe-1e69-480c-ee5c-c560513b85b8",
        "id": "yZzIXJ3A1UIY"
      },
      "outputs": [
        {
          "output_type": "stream",
          "name": "stdout",
          "text": [
            "<class 'pandas.core.frame.DataFrame'>\n"
          ]
        }
      ],
      "source": [
        "#s = input(\"Ingresa tus palabras de búsqueda: \")\n",
        "s = 'TITLE-ABS-KEY(((\"geo\") AND (\"supercapacitor\")))'\n",
        "search_df = scopus.search(s, count=200, view='STANDARD')\n",
        "print(type(search_df))"
      ]
    },
    {
      "cell_type": "code",
      "source": [
        "from IPython.display import display\n",
        "display(search_df)"
      ],
      "metadata": {
        "colab": {
          "base_uri": "https://localhost:8080/",
          "height": 653
        },
        "id": "M8h5N5JC0uhP",
        "outputId": "7e359d8a-c07d-462b-9b85-dbb768c52df6"
      },
      "execution_count": null,
      "outputs": [
        {
          "output_type": "display_data",
          "data": {
            "text/plain": [
              "     scopus_id                                              title  \\\n",
              "0  85164571648  Optimization techniques for electrochemical de...   \n",
              "1  85192565078  Scalable Synthesis of Layered Bismuth Germanat...   \n",
              "2  85122347408      Statistical modeling of hybrid supercapacitor   \n",
              "3  85116257984  Effect of Tungsten and Carbon in Germanium Oxi...   \n",
              "4  85066248112  One-step synthesis of Zn<inf>2</inf>GeO<inf>4<...   \n",
              "5  84991735482  Proceedings of the World Congress on Intellige...   \n",
              "6  85011552225  Proceedings of SPIE - The International Societ...   \n",
              "\n",
              "                                    publication_name      issn  \\\n",
              "0           International Journal of Hydrogen Energy  03603199   \n",
              "1  Journal of Inorganic and Organometallic Polyme...  15741443   \n",
              "2                          Journal of Energy Storage      None   \n",
              "3                       ACS Applied Energy Materials      None   \n",
              "4                       Chemical Engineering Journal  13858947   \n",
              "5  Proceedings of the World Congress on Intellige...      None   \n",
              "6  Proceedings of SPIE - The International Societ...  0277786X   \n",
              "\n",
              "                                         isbn     eissn          volume  \\\n",
              "0                                        None      None              52   \n",
              "1                                        None  15741451            None   \n",
              "2                                        None  2352152X              46   \n",
              "3                                        None  25740962               4   \n",
              "4                                        None      None             374   \n",
              "5  [{'@_fa': 'true', '$': '[9781467384148]'}]      None  2016-September   \n",
              "6  [{'@_fa': 'true', '$': '[9781510609495]'}]  1996756X           10224   \n",
              "\n",
              "  page_range  cover_date                             doi  citation_count  \\\n",
              "0  1058-1092  2024-01-02  10.1016/j.ijhydene.2023.06.264               7   \n",
              "1       None  2024-01-01      10.1007/s10904-024-03098-0               0   \n",
              "2       None  2022-02-01       10.1016/j.est.2021.103869              21   \n",
              "3  9692-9700  2021-09-27          10.1021/acsaem.1c01674               7   \n",
              "4      29-38  2019-10-15       10.1016/j.cej.2019.05.182              23   \n",
              "5       None  2016-09-27                            None               0   \n",
              "6       None  2016-01-01                            None               0   \n",
              "\n",
              "                                         affiliation       aggregation_type  \\\n",
              "0  [{'name': 'University of Sharjah', 'city': 'Sh...                Journal   \n",
              "1  [{'name': 'SRM Institute of Science and Techno...                Journal   \n",
              "2  [{'name': 'Bharati Vidyapeeth (Deemed to be Un...                Journal   \n",
              "3  [{'name': 'Alagappa University', 'city': 'Kara...                Journal   \n",
              "4  [{'name': 'South China Normal University', 'ci...                Journal   \n",
              "5                                               None  Conference Proceeding   \n",
              "6                                               None  Conference Proceeding   \n",
              "\n",
              "  subtype_description authors  \\\n",
              "0             Article      []   \n",
              "1             Article      []   \n",
              "2             Article      []   \n",
              "3             Article      []   \n",
              "4             Article      []   \n",
              "5   Conference Review      []   \n",
              "6   Conference Review      []   \n",
              "\n",
              "                                           full_text  \n",
              "0  https://api.elsevier.com/content/article/eid/1...  \n",
              "1                                               None  \n",
              "2  https://api.elsevier.com/content/article/eid/1...  \n",
              "3                                               None  \n",
              "4  https://api.elsevier.com/content/article/eid/1...  \n",
              "5                                               None  \n",
              "6                                               None  "
            ],
            "text/html": [
              "\n",
              "  <div id=\"df-0a68e82d-d498-4e4b-9311-1c0cc325f51a\" class=\"colab-df-container\">\n",
              "    <div>\n",
              "<style scoped>\n",
              "    .dataframe tbody tr th:only-of-type {\n",
              "        vertical-align: middle;\n",
              "    }\n",
              "\n",
              "    .dataframe tbody tr th {\n",
              "        vertical-align: top;\n",
              "    }\n",
              "\n",
              "    .dataframe thead th {\n",
              "        text-align: right;\n",
              "    }\n",
              "</style>\n",
              "<table border=\"1\" class=\"dataframe\">\n",
              "  <thead>\n",
              "    <tr style=\"text-align: right;\">\n",
              "      <th></th>\n",
              "      <th>scopus_id</th>\n",
              "      <th>title</th>\n",
              "      <th>publication_name</th>\n",
              "      <th>issn</th>\n",
              "      <th>isbn</th>\n",
              "      <th>eissn</th>\n",
              "      <th>volume</th>\n",
              "      <th>page_range</th>\n",
              "      <th>cover_date</th>\n",
              "      <th>doi</th>\n",
              "      <th>citation_count</th>\n",
              "      <th>affiliation</th>\n",
              "      <th>aggregation_type</th>\n",
              "      <th>subtype_description</th>\n",
              "      <th>authors</th>\n",
              "      <th>full_text</th>\n",
              "    </tr>\n",
              "  </thead>\n",
              "  <tbody>\n",
              "    <tr>\n",
              "      <th>0</th>\n",
              "      <td>85164571648</td>\n",
              "      <td>Optimization techniques for electrochemical de...</td>\n",
              "      <td>International Journal of Hydrogen Energy</td>\n",
              "      <td>03603199</td>\n",
              "      <td>None</td>\n",
              "      <td>None</td>\n",
              "      <td>52</td>\n",
              "      <td>1058-1092</td>\n",
              "      <td>2024-01-02</td>\n",
              "      <td>10.1016/j.ijhydene.2023.06.264</td>\n",
              "      <td>7</td>\n",
              "      <td>[{'name': 'University of Sharjah', 'city': 'Sh...</td>\n",
              "      <td>Journal</td>\n",
              "      <td>Article</td>\n",
              "      <td>[]</td>\n",
              "      <td>https://api.elsevier.com/content/article/eid/1...</td>\n",
              "    </tr>\n",
              "    <tr>\n",
              "      <th>1</th>\n",
              "      <td>85192565078</td>\n",
              "      <td>Scalable Synthesis of Layered Bismuth Germanat...</td>\n",
              "      <td>Journal of Inorganic and Organometallic Polyme...</td>\n",
              "      <td>15741443</td>\n",
              "      <td>None</td>\n",
              "      <td>15741451</td>\n",
              "      <td>None</td>\n",
              "      <td>None</td>\n",
              "      <td>2024-01-01</td>\n",
              "      <td>10.1007/s10904-024-03098-0</td>\n",
              "      <td>0</td>\n",
              "      <td>[{'name': 'SRM Institute of Science and Techno...</td>\n",
              "      <td>Journal</td>\n",
              "      <td>Article</td>\n",
              "      <td>[]</td>\n",
              "      <td>None</td>\n",
              "    </tr>\n",
              "    <tr>\n",
              "      <th>2</th>\n",
              "      <td>85122347408</td>\n",
              "      <td>Statistical modeling of hybrid supercapacitor</td>\n",
              "      <td>Journal of Energy Storage</td>\n",
              "      <td>None</td>\n",
              "      <td>None</td>\n",
              "      <td>2352152X</td>\n",
              "      <td>46</td>\n",
              "      <td>None</td>\n",
              "      <td>2022-02-01</td>\n",
              "      <td>10.1016/j.est.2021.103869</td>\n",
              "      <td>21</td>\n",
              "      <td>[{'name': 'Bharati Vidyapeeth (Deemed to be Un...</td>\n",
              "      <td>Journal</td>\n",
              "      <td>Article</td>\n",
              "      <td>[]</td>\n",
              "      <td>https://api.elsevier.com/content/article/eid/1...</td>\n",
              "    </tr>\n",
              "    <tr>\n",
              "      <th>3</th>\n",
              "      <td>85116257984</td>\n",
              "      <td>Effect of Tungsten and Carbon in Germanium Oxi...</td>\n",
              "      <td>ACS Applied Energy Materials</td>\n",
              "      <td>None</td>\n",
              "      <td>None</td>\n",
              "      <td>25740962</td>\n",
              "      <td>4</td>\n",
              "      <td>9692-9700</td>\n",
              "      <td>2021-09-27</td>\n",
              "      <td>10.1021/acsaem.1c01674</td>\n",
              "      <td>7</td>\n",
              "      <td>[{'name': 'Alagappa University', 'city': 'Kara...</td>\n",
              "      <td>Journal</td>\n",
              "      <td>Article</td>\n",
              "      <td>[]</td>\n",
              "      <td>None</td>\n",
              "    </tr>\n",
              "    <tr>\n",
              "      <th>4</th>\n",
              "      <td>85066248112</td>\n",
              "      <td>One-step synthesis of Zn&lt;inf&gt;2&lt;/inf&gt;GeO&lt;inf&gt;4&lt;...</td>\n",
              "      <td>Chemical Engineering Journal</td>\n",
              "      <td>13858947</td>\n",
              "      <td>None</td>\n",
              "      <td>None</td>\n",
              "      <td>374</td>\n",
              "      <td>29-38</td>\n",
              "      <td>2019-10-15</td>\n",
              "      <td>10.1016/j.cej.2019.05.182</td>\n",
              "      <td>23</td>\n",
              "      <td>[{'name': 'South China Normal University', 'ci...</td>\n",
              "      <td>Journal</td>\n",
              "      <td>Article</td>\n",
              "      <td>[]</td>\n",
              "      <td>https://api.elsevier.com/content/article/eid/1...</td>\n",
              "    </tr>\n",
              "    <tr>\n",
              "      <th>5</th>\n",
              "      <td>84991735482</td>\n",
              "      <td>Proceedings of the World Congress on Intellige...</td>\n",
              "      <td>Proceedings of the World Congress on Intellige...</td>\n",
              "      <td>None</td>\n",
              "      <td>[{'@_fa': 'true', '$': '[9781467384148]'}]</td>\n",
              "      <td>None</td>\n",
              "      <td>2016-September</td>\n",
              "      <td>None</td>\n",
              "      <td>2016-09-27</td>\n",
              "      <td>None</td>\n",
              "      <td>0</td>\n",
              "      <td>None</td>\n",
              "      <td>Conference Proceeding</td>\n",
              "      <td>Conference Review</td>\n",
              "      <td>[]</td>\n",
              "      <td>None</td>\n",
              "    </tr>\n",
              "    <tr>\n",
              "      <th>6</th>\n",
              "      <td>85011552225</td>\n",
              "      <td>Proceedings of SPIE - The International Societ...</td>\n",
              "      <td>Proceedings of SPIE - The International Societ...</td>\n",
              "      <td>0277786X</td>\n",
              "      <td>[{'@_fa': 'true', '$': '[9781510609495]'}]</td>\n",
              "      <td>1996756X</td>\n",
              "      <td>10224</td>\n",
              "      <td>None</td>\n",
              "      <td>2016-01-01</td>\n",
              "      <td>None</td>\n",
              "      <td>0</td>\n",
              "      <td>None</td>\n",
              "      <td>Conference Proceeding</td>\n",
              "      <td>Conference Review</td>\n",
              "      <td>[]</td>\n",
              "      <td>None</td>\n",
              "    </tr>\n",
              "  </tbody>\n",
              "</table>\n",
              "</div>\n",
              "    <div class=\"colab-df-buttons\">\n",
              "\n",
              "  <div class=\"colab-df-container\">\n",
              "    <button class=\"colab-df-convert\" onclick=\"convertToInteractive('df-0a68e82d-d498-4e4b-9311-1c0cc325f51a')\"\n",
              "            title=\"Convert this dataframe to an interactive table.\"\n",
              "            style=\"display:none;\">\n",
              "\n",
              "  <svg xmlns=\"http://www.w3.org/2000/svg\" height=\"24px\" viewBox=\"0 -960 960 960\">\n",
              "    <path d=\"M120-120v-720h720v720H120Zm60-500h600v-160H180v160Zm220 220h160v-160H400v160Zm0 220h160v-160H400v160ZM180-400h160v-160H180v160Zm440 0h160v-160H620v160ZM180-180h160v-160H180v160Zm440 0h160v-160H620v160Z\"/>\n",
              "  </svg>\n",
              "    </button>\n",
              "\n",
              "  <style>\n",
              "    .colab-df-container {\n",
              "      display:flex;\n",
              "      gap: 12px;\n",
              "    }\n",
              "\n",
              "    .colab-df-convert {\n",
              "      background-color: #E8F0FE;\n",
              "      border: none;\n",
              "      border-radius: 50%;\n",
              "      cursor: pointer;\n",
              "      display: none;\n",
              "      fill: #1967D2;\n",
              "      height: 32px;\n",
              "      padding: 0 0 0 0;\n",
              "      width: 32px;\n",
              "    }\n",
              "\n",
              "    .colab-df-convert:hover {\n",
              "      background-color: #E2EBFA;\n",
              "      box-shadow: 0px 1px 2px rgba(60, 64, 67, 0.3), 0px 1px 3px 1px rgba(60, 64, 67, 0.15);\n",
              "      fill: #174EA6;\n",
              "    }\n",
              "\n",
              "    .colab-df-buttons div {\n",
              "      margin-bottom: 4px;\n",
              "    }\n",
              "\n",
              "    [theme=dark] .colab-df-convert {\n",
              "      background-color: #3B4455;\n",
              "      fill: #D2E3FC;\n",
              "    }\n",
              "\n",
              "    [theme=dark] .colab-df-convert:hover {\n",
              "      background-color: #434B5C;\n",
              "      box-shadow: 0px 1px 3px 1px rgba(0, 0, 0, 0.15);\n",
              "      filter: drop-shadow(0px 1px 2px rgba(0, 0, 0, 0.3));\n",
              "      fill: #FFFFFF;\n",
              "    }\n",
              "  </style>\n",
              "\n",
              "    <script>\n",
              "      const buttonEl =\n",
              "        document.querySelector('#df-0a68e82d-d498-4e4b-9311-1c0cc325f51a button.colab-df-convert');\n",
              "      buttonEl.style.display =\n",
              "        google.colab.kernel.accessAllowed ? 'block' : 'none';\n",
              "\n",
              "      async function convertToInteractive(key) {\n",
              "        const element = document.querySelector('#df-0a68e82d-d498-4e4b-9311-1c0cc325f51a');\n",
              "        const dataTable =\n",
              "          await google.colab.kernel.invokeFunction('convertToInteractive',\n",
              "                                                    [key], {});\n",
              "        if (!dataTable) return;\n",
              "\n",
              "        const docLinkHtml = 'Like what you see? Visit the ' +\n",
              "          '<a target=\"_blank\" href=https://colab.research.google.com/notebooks/data_table.ipynb>data table notebook</a>'\n",
              "          + ' to learn more about interactive tables.';\n",
              "        element.innerHTML = '';\n",
              "        dataTable['output_type'] = 'display_data';\n",
              "        await google.colab.output.renderOutput(dataTable, element);\n",
              "        const docLink = document.createElement('div');\n",
              "        docLink.innerHTML = docLinkHtml;\n",
              "        element.appendChild(docLink);\n",
              "      }\n",
              "    </script>\n",
              "  </div>\n",
              "\n",
              "\n",
              "<div id=\"df-a51f1845-53c3-49a3-be44-f0ecb35bb3a5\">\n",
              "  <button class=\"colab-df-quickchart\" onclick=\"quickchart('df-a51f1845-53c3-49a3-be44-f0ecb35bb3a5')\"\n",
              "            title=\"Suggest charts\"\n",
              "            style=\"display:none;\">\n",
              "\n",
              "<svg xmlns=\"http://www.w3.org/2000/svg\" height=\"24px\"viewBox=\"0 0 24 24\"\n",
              "     width=\"24px\">\n",
              "    <g>\n",
              "        <path d=\"M19 3H5c-1.1 0-2 .9-2 2v14c0 1.1.9 2 2 2h14c1.1 0 2-.9 2-2V5c0-1.1-.9-2-2-2zM9 17H7v-7h2v7zm4 0h-2V7h2v10zm4 0h-2v-4h2v4z\"/>\n",
              "    </g>\n",
              "</svg>\n",
              "  </button>\n",
              "\n",
              "<style>\n",
              "  .colab-df-quickchart {\n",
              "      --bg-color: #E8F0FE;\n",
              "      --fill-color: #1967D2;\n",
              "      --hover-bg-color: #E2EBFA;\n",
              "      --hover-fill-color: #174EA6;\n",
              "      --disabled-fill-color: #AAA;\n",
              "      --disabled-bg-color: #DDD;\n",
              "  }\n",
              "\n",
              "  [theme=dark] .colab-df-quickchart {\n",
              "      --bg-color: #3B4455;\n",
              "      --fill-color: #D2E3FC;\n",
              "      --hover-bg-color: #434B5C;\n",
              "      --hover-fill-color: #FFFFFF;\n",
              "      --disabled-bg-color: #3B4455;\n",
              "      --disabled-fill-color: #666;\n",
              "  }\n",
              "\n",
              "  .colab-df-quickchart {\n",
              "    background-color: var(--bg-color);\n",
              "    border: none;\n",
              "    border-radius: 50%;\n",
              "    cursor: pointer;\n",
              "    display: none;\n",
              "    fill: var(--fill-color);\n",
              "    height: 32px;\n",
              "    padding: 0;\n",
              "    width: 32px;\n",
              "  }\n",
              "\n",
              "  .colab-df-quickchart:hover {\n",
              "    background-color: var(--hover-bg-color);\n",
              "    box-shadow: 0 1px 2px rgba(60, 64, 67, 0.3), 0 1px 3px 1px rgba(60, 64, 67, 0.15);\n",
              "    fill: var(--button-hover-fill-color);\n",
              "  }\n",
              "\n",
              "  .colab-df-quickchart-complete:disabled,\n",
              "  .colab-df-quickchart-complete:disabled:hover {\n",
              "    background-color: var(--disabled-bg-color);\n",
              "    fill: var(--disabled-fill-color);\n",
              "    box-shadow: none;\n",
              "  }\n",
              "\n",
              "  .colab-df-spinner {\n",
              "    border: 2px solid var(--fill-color);\n",
              "    border-color: transparent;\n",
              "    border-bottom-color: var(--fill-color);\n",
              "    animation:\n",
              "      spin 1s steps(1) infinite;\n",
              "  }\n",
              "\n",
              "  @keyframes spin {\n",
              "    0% {\n",
              "      border-color: transparent;\n",
              "      border-bottom-color: var(--fill-color);\n",
              "      border-left-color: var(--fill-color);\n",
              "    }\n",
              "    20% {\n",
              "      border-color: transparent;\n",
              "      border-left-color: var(--fill-color);\n",
              "      border-top-color: var(--fill-color);\n",
              "    }\n",
              "    30% {\n",
              "      border-color: transparent;\n",
              "      border-left-color: var(--fill-color);\n",
              "      border-top-color: var(--fill-color);\n",
              "      border-right-color: var(--fill-color);\n",
              "    }\n",
              "    40% {\n",
              "      border-color: transparent;\n",
              "      border-right-color: var(--fill-color);\n",
              "      border-top-color: var(--fill-color);\n",
              "    }\n",
              "    60% {\n",
              "      border-color: transparent;\n",
              "      border-right-color: var(--fill-color);\n",
              "    }\n",
              "    80% {\n",
              "      border-color: transparent;\n",
              "      border-right-color: var(--fill-color);\n",
              "      border-bottom-color: var(--fill-color);\n",
              "    }\n",
              "    90% {\n",
              "      border-color: transparent;\n",
              "      border-bottom-color: var(--fill-color);\n",
              "    }\n",
              "  }\n",
              "</style>\n",
              "\n",
              "  <script>\n",
              "    async function quickchart(key) {\n",
              "      const quickchartButtonEl =\n",
              "        document.querySelector('#' + key + ' button');\n",
              "      quickchartButtonEl.disabled = true;  // To prevent multiple clicks.\n",
              "      quickchartButtonEl.classList.add('colab-df-spinner');\n",
              "      try {\n",
              "        const charts = await google.colab.kernel.invokeFunction(\n",
              "            'suggestCharts', [key], {});\n",
              "      } catch (error) {\n",
              "        console.error('Error during call to suggestCharts:', error);\n",
              "      }\n",
              "      quickchartButtonEl.classList.remove('colab-df-spinner');\n",
              "      quickchartButtonEl.classList.add('colab-df-quickchart-complete');\n",
              "    }\n",
              "    (() => {\n",
              "      let quickchartButtonEl =\n",
              "        document.querySelector('#df-a51f1845-53c3-49a3-be44-f0ecb35bb3a5 button');\n",
              "      quickchartButtonEl.style.display =\n",
              "        google.colab.kernel.accessAllowed ? 'block' : 'none';\n",
              "    })();\n",
              "  </script>\n",
              "</div>\n",
              "\n",
              "  <div id=\"id_e82f2b7b-fc7e-4b7e-abae-1d6229bbf337\">\n",
              "    <style>\n",
              "      .colab-df-generate {\n",
              "        background-color: #E8F0FE;\n",
              "        border: none;\n",
              "        border-radius: 50%;\n",
              "        cursor: pointer;\n",
              "        display: none;\n",
              "        fill: #1967D2;\n",
              "        height: 32px;\n",
              "        padding: 0 0 0 0;\n",
              "        width: 32px;\n",
              "      }\n",
              "\n",
              "      .colab-df-generate:hover {\n",
              "        background-color: #E2EBFA;\n",
              "        box-shadow: 0px 1px 2px rgba(60, 64, 67, 0.3), 0px 1px 3px 1px rgba(60, 64, 67, 0.15);\n",
              "        fill: #174EA6;\n",
              "      }\n",
              "\n",
              "      [theme=dark] .colab-df-generate {\n",
              "        background-color: #3B4455;\n",
              "        fill: #D2E3FC;\n",
              "      }\n",
              "\n",
              "      [theme=dark] .colab-df-generate:hover {\n",
              "        background-color: #434B5C;\n",
              "        box-shadow: 0px 1px 3px 1px rgba(0, 0, 0, 0.15);\n",
              "        filter: drop-shadow(0px 1px 2px rgba(0, 0, 0, 0.3));\n",
              "        fill: #FFFFFF;\n",
              "      }\n",
              "    </style>\n",
              "    <button class=\"colab-df-generate\" onclick=\"generateWithVariable('search_df')\"\n",
              "            title=\"Generate code using this dataframe.\"\n",
              "            style=\"display:none;\">\n",
              "\n",
              "  <svg xmlns=\"http://www.w3.org/2000/svg\" height=\"24px\"viewBox=\"0 0 24 24\"\n",
              "       width=\"24px\">\n",
              "    <path d=\"M7,19H8.4L18.45,9,17,7.55,7,17.6ZM5,21V16.75L18.45,3.32a2,2,0,0,1,2.83,0l1.4,1.43a1.91,1.91,0,0,1,.58,1.4,1.91,1.91,0,0,1-.58,1.4L9.25,21ZM18.45,9,17,7.55Zm-12,3A5.31,5.31,0,0,0,4.9,8.1,5.31,5.31,0,0,0,1,6.5,5.31,5.31,0,0,0,4.9,4.9,5.31,5.31,0,0,0,6.5,1,5.31,5.31,0,0,0,8.1,4.9,5.31,5.31,0,0,0,12,6.5,5.46,5.46,0,0,0,6.5,12Z\"/>\n",
              "  </svg>\n",
              "    </button>\n",
              "    <script>\n",
              "      (() => {\n",
              "      const buttonEl =\n",
              "        document.querySelector('#id_e82f2b7b-fc7e-4b7e-abae-1d6229bbf337 button.colab-df-generate');\n",
              "      buttonEl.style.display =\n",
              "        google.colab.kernel.accessAllowed ? 'block' : 'none';\n",
              "\n",
              "      buttonEl.onclick = () => {\n",
              "        google.colab.notebook.generateWithVariable('search_df');\n",
              "      }\n",
              "      })();\n",
              "    </script>\n",
              "  </div>\n",
              "\n",
              "    </div>\n",
              "  </div>\n"
            ],
            "application/vnd.google.colaboratory.intrinsic+json": {
              "type": "dataframe",
              "variable_name": "search_df",
              "summary": "{\n  \"name\": \"search_df\",\n  \"rows\": 7,\n  \"fields\": [\n    {\n      \"column\": \"scopus_id\",\n      \"properties\": {\n        \"dtype\": \"string\",\n        \"num_unique_values\": 7,\n        \"samples\": [\n          \"85164571648\",\n          \"85192565078\",\n          \"84991735482\"\n        ],\n        \"semantic_type\": \"\",\n        \"description\": \"\"\n      }\n    },\n    {\n      \"column\": \"title\",\n      \"properties\": {\n        \"dtype\": \"string\",\n        \"num_unique_values\": 7,\n        \"samples\": [\n          \"Optimization techniques for electrochemical devices for hydrogen production and energy storage applications\",\n          \"Scalable Synthesis of Layered Bismuth Germanate (Bi<inf>12</inf>GeO<inf>20</inf>) for Supercapacitors and Sodium ion Battery Applications\",\n          \"Proceedings of the World Congress on Intelligent Control and Automation (WCICA)\"\n        ],\n        \"semantic_type\": \"\",\n        \"description\": \"\"\n      }\n    },\n    {\n      \"column\": \"publication_name\",\n      \"properties\": {\n        \"dtype\": \"string\",\n        \"num_unique_values\": 7,\n        \"samples\": [\n          \"International Journal of Hydrogen Energy\",\n          \"Journal of Inorganic and Organometallic Polymers and Materials\",\n          \"Proceedings of the World Congress on Intelligent Control and Automation (WCICA)\"\n        ],\n        \"semantic_type\": \"\",\n        \"description\": \"\"\n      }\n    },\n    {\n      \"column\": \"issn\",\n      \"properties\": {\n        \"dtype\": \"string\",\n        \"num_unique_values\": 4,\n        \"samples\": [\n          \"15741443\",\n          \"0277786X\",\n          \"03603199\"\n        ],\n        \"semantic_type\": \"\",\n        \"description\": \"\"\n      }\n    },\n    {\n      \"column\": \"isbn\",\n      \"properties\": {\n        \"dtype\": \"object\",\n        \"semantic_type\": \"\",\n        \"description\": \"\"\n      }\n    },\n    {\n      \"column\": \"eissn\",\n      \"properties\": {\n        \"dtype\": \"string\",\n        \"num_unique_values\": 4,\n        \"samples\": [\n          \"2352152X\",\n          \"1996756X\",\n          \"15741451\"\n        ],\n        \"semantic_type\": \"\",\n        \"description\": \"\"\n      }\n    },\n    {\n      \"column\": \"volume\",\n      \"properties\": {\n        \"dtype\": \"string\",\n        \"num_unique_values\": 6,\n        \"samples\": [\n          \"52\",\n          \"46\",\n          \"10224\"\n        ],\n        \"semantic_type\": \"\",\n        \"description\": \"\"\n      }\n    },\n    {\n      \"column\": \"page_range\",\n      \"properties\": {\n        \"dtype\": \"category\",\n        \"num_unique_values\": 3,\n        \"samples\": [\n          \"1058-1092\",\n          \"9692-9700\",\n          \"29-38\"\n        ],\n        \"semantic_type\": \"\",\n        \"description\": \"\"\n      }\n    },\n    {\n      \"column\": \"cover_date\",\n      \"properties\": {\n        \"dtype\": \"object\",\n        \"num_unique_values\": 7,\n        \"samples\": [\n          \"2024-01-02\",\n          \"2024-01-01\",\n          \"2016-09-27\"\n        ],\n        \"semantic_type\": \"\",\n        \"description\": \"\"\n      }\n    },\n    {\n      \"column\": \"doi\",\n      \"properties\": {\n        \"dtype\": \"string\",\n        \"num_unique_values\": 5,\n        \"samples\": [\n          \"10.1007/s10904-024-03098-0\",\n          \"10.1016/j.cej.2019.05.182\",\n          \"10.1016/j.est.2021.103869\"\n        ],\n        \"semantic_type\": \"\",\n        \"description\": \"\"\n      }\n    },\n    {\n      \"column\": \"citation_count\",\n      \"properties\": {\n        \"dtype\": \"number\",\n        \"std\": 9,\n        \"min\": 0,\n        \"max\": 23,\n        \"num_unique_values\": 4,\n        \"samples\": [\n          0,\n          23,\n          7\n        ],\n        \"semantic_type\": \"\",\n        \"description\": \"\"\n      }\n    },\n    {\n      \"column\": \"affiliation\",\n      \"properties\": {\n        \"dtype\": \"object\",\n        \"semantic_type\": \"\",\n        \"description\": \"\"\n      }\n    },\n    {\n      \"column\": \"aggregation_type\",\n      \"properties\": {\n        \"dtype\": \"category\",\n        \"num_unique_values\": 2,\n        \"samples\": [\n          \"Conference Proceeding\",\n          \"Journal\"\n        ],\n        \"semantic_type\": \"\",\n        \"description\": \"\"\n      }\n    },\n    {\n      \"column\": \"subtype_description\",\n      \"properties\": {\n        \"dtype\": \"category\",\n        \"num_unique_values\": 2,\n        \"samples\": [\n          \"Conference Review\",\n          \"Article\"\n        ],\n        \"semantic_type\": \"\",\n        \"description\": \"\"\n      }\n    },\n    {\n      \"column\": \"authors\",\n      \"properties\": {\n        \"dtype\": \"object\",\n        \"semantic_type\": \"\",\n        \"description\": \"\"\n      }\n    },\n    {\n      \"column\": \"full_text\",\n      \"properties\": {\n        \"dtype\": \"category\",\n        \"num_unique_values\": 3,\n        \"samples\": [\n          \"https://api.elsevier.com/content/article/eid/1-s2.0-S0360319923032433\",\n          \"https://api.elsevier.com/content/article/eid/1-s2.0-S2352152X2101536X\"\n        ],\n        \"semantic_type\": \"\",\n        \"description\": \"\"\n      }\n    }\n  ]\n}"
            }
          },
          "metadata": {}
        }
      ]
    }
  ],
  "metadata": {
    "colab": {
      "provenance": []
    },
    "kernelspec": {
      "display_name": "Python 3",
      "name": "python3"
    },
    "language_info": {
      "name": "python"
    }
  },
  "nbformat": 4,
  "nbformat_minor": 0
}